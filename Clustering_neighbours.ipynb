{
 "cells": [
  {
   "cell_type": "code",
   "execution_count": null,
   "metadata": {},
   "outputs": [],
   "source": [
    "#Download packages\n",
    "import pandas as pd\n",
    "import geopandas as gpd\n",
    "from sklearn.cluster import KMeans\n",
    "\n",
    "from sklearn.preprocessing import StandardScaler\n",
    "from sklearn.metrics import silhouette_score\n",
    "import matplotlib.pyplot as plt\n",
    "import numpy as np"
   ]
  },
  {
   "cell_type": "code",
   "execution_count": null,
   "metadata": {},
   "outputs": [],
   "source": [
    "#Open the data as a dataframe\n",
    "df = pd.read_csv('preprocessed.csv')"
   ]
  },
  {
   "cell_type": "code",
   "execution_count": null,
   "metadata": {},
   "outputs": [],
   "source": [
    "shapefile_path = \"London-wards/London_Ward.shp\" \n",
    "gdf = gpd.read_file(shapefile_path, )\n",
    "gdf = gdf.rename(columns={'NAME': 'ward_n','DISTRICT':'borough'})\n",
    "#Remove the rows that are about the City of London\n",
    "gdf = gdf.drop(gdf[gdf['borough'] == 'City and County of the City of London'].index)\n",
    "\n",
    "#Remove the dots in the ward names.\n",
    "gdf['ward_n'] = gdf['ward_n'].str.replace('.','')\n",
    "\n",
    "#Fixing a difference in spelling\n",
    "gdf = gdf.replace({'Shirly South':'Shirley South'})"
   ]
  },
  {
   "cell_type": "code",
   "execution_count": null,
   "metadata": {},
   "outputs": [],
   "source": [
    "#Combine the tables by adding the corresponding geometry polygon for each ward in the PAS data and leaving the other columns as they are.\n",
    "merged_df = df.merge(gdf.loc[:,['ward_n','borough','geometry']], how = 'left',on=['ward_n','borough'], copy=True)\n",
    "merged_df"
   ]
  },
  {
   "cell_type": "code",
   "execution_count": null,
   "metadata": {},
   "outputs": [],
   "source": [
    "silhouette_scores = []\n",
    "\n",
    "min_clusters = 4\n",
    "max_clusters = 20\n",
    "cluster_data = merged_df.loc[:,['borough','geometry']]\n",
    "geo_data = cluster_data['geometry']"
   ]
  },
  {
   "cell_type": "code",
   "execution_count": null,
   "metadata": {},
   "outputs": [],
   "source": [
    "for num_clusters in range(min_clusters, max_clusters + 1):\n",
    "    # Perform K-means clustering\n",
    "    kmeans = KMeans(n_clusters=num_clusters, random_state=0)\n",
    "    cluster_labels = kmeans.fit_predict(geo_data)\n",
    "    \n",
    "    # Calculate silhouette score\n",
    "    silhouette_avg = silhouette_score(geo_data, cluster_labels)\n",
    "    silhouette_scores.append(silhouette_avg)"
   ]
  },
  {
   "cell_type": "code",
   "execution_count": null,
   "metadata": {},
   "outputs": [],
   "source": [
    "no_nans = merged_df.dropna(subset=['geometry'])"
   ]
  },
  {
   "cell_type": "code",
   "execution_count": null,
   "metadata": {},
   "outputs": [],
   "source": [
    "polygon_list = merged_df.geometry.unique()"
   ]
  },
  {
   "cell_type": "code",
   "execution_count": null,
   "metadata": {},
   "outputs": [],
   "source": [
    "no_nans.head(1)"
   ]
  },
  {
   "cell_type": "code",
   "execution_count": null,
   "metadata": {},
   "outputs": [],
   "source": [
    "fig, ax = plt.subplots(1, 1, figsize=(10, 10))\n",
    "no_nans.plot(column='ward_n', cmap='viridis', legend=True, ax=ax)\n",
    "\n",
    "for idx, row in no_nans.iterrows():\n",
    "    district_name = row['borough']\n",
    "    centroid = row['geometry'].centroid\n",
    "    offset_x = centroid.x\n",
    "    offset_y = centroid.y\n",
    "    plt.annotate(text=district_name, xy=(offset_x, offset_y), color='black', fontsize=6)\n",
    "\n",
    "plt.title(\"Clustered Districts by Education Index\")\n",
    "plt.show()"
   ]
  }
 ],
 "metadata": {
  "kernelspec": {
   "display_name": "base",
   "language": "python",
   "name": "python3"
  },
  "language_info": {
   "codemirror_mode": {
    "name": "ipython",
    "version": 3
   },
   "file_extension": ".py",
   "mimetype": "text/x-python",
   "name": "python",
   "nbconvert_exporter": "python",
   "pygments_lexer": "ipython3",
   "version": "3.11.7"
  }
 },
 "nbformat": 4,
 "nbformat_minor": 2
}
