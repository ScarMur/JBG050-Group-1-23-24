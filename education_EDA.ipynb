{
 "cells": [
  {
   "cell_type": "code",
   "execution_count": null,
   "metadata": {},
   "outputs": [],
   "source": [
    "#Download packages\n",
    "import pandas as pd\n",
    "import plotly.express as px\n",
    "from collections import defaultdict "
   ]
  },
  {
   "cell_type": "code",
   "execution_count": null,
   "metadata": {},
   "outputs": [],
   "source": [
    "#Open the data as a dataframe\n",
    "df = pd.read_csv('preprocessed.csv')\n"
   ]
  },
  {
   "cell_type": "code",
   "execution_count": null,
   "metadata": {},
   "outputs": [],
   "source": [
    "df.borough.unique()"
   ]
  },
  {
   "cell_type": "code",
   "execution_count": null,
   "metadata": {},
   "outputs": [],
   "source": [
    "#Filter to borough and education columns.\n",
    "df_area_educ = df.loc[:,['ward_unique','NQ146']].sort_values(by='ward_unique').rename(columns = {'NQ146':'education'}).reset_index()\n",
    "df_area_educ"
   ]
  },
  {
   "cell_type": "code",
   "execution_count": null,
   "metadata": {},
   "outputs": [],
   "source": [
    "educations = df_area_educ.education.unique()\n",
    "for education in educations:\n",
    "    print(education)\n",
    "    print(len(df_area_educ.loc[df_area_educ['education'] == f'{education}']))"
   ]
  },
  {
   "cell_type": "code",
   "execution_count": null,
   "metadata": {},
   "outputs": [],
   "source": [
    "#Make the data graphable by making ward_unique be numeric isntead of categorical.\n",
    "ward_name_dict = defaultdict(lambda: len(ward_name_dict))\n",
    "for ward in df_area_educ['ward_unique']:\n",
    "    ward_name_dict[ward]\n",
    "\n",
    "df_numeric_aged = df_area_educ.replace({'ward_unique':ward_name_dict})\n",
    "df_numeric_aged\n"
   ]
  },
  {
   "cell_type": "code",
   "execution_count": null,
   "metadata": {},
   "outputs": [],
   "source": [
    "#Create a copy of the data that aggregates the entire ward and education level and counts how many people are in the category.\n",
    "df_copy = df_numeric_aged.copy()\n",
    "df_count_aggr = df_copy.groupby(['ward_unique','education']).count().reset_index()\n",
    "df_count_aggr= df_count_aggr.rename(columns={'index':'count'})\n"
   ]
  },
  {
   "cell_type": "code",
   "execution_count": null,
   "metadata": {},
   "outputs": [],
   "source": [
    "df_count_aggr"
   ]
  },
  {
   "cell_type": "code",
   "execution_count": null,
   "metadata": {},
   "outputs": [],
   "source": [
    "#Make a barchart of the education distribution per neighbourhood.\n",
    "fig = px.bar(df_count_aggr, x='ward_unique', y='count', color='education', barmode=\"group\")\n",
    "fig.show()"
   ]
  }
 ],
 "metadata": {
  "kernelspec": {
   "display_name": "base",
   "language": "python",
   "name": "python3"
  },
  "language_info": {
   "codemirror_mode": {
    "name": "ipython",
    "version": 3
   },
   "file_extension": ".py",
   "mimetype": "text/x-python",
   "name": "python",
   "nbconvert_exporter": "python",
   "pygments_lexer": "ipython3",
   "version": "3.11.7"
  }
 },
 "nbformat": 4,
 "nbformat_minor": 2
}
